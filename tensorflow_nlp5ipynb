{
 "cells": [
  {
   "cell_type": "markdown",
   "source": [
    "## tensorflow_nl3.ipynb"
   ],
   "metadata": {}
  },
  {
   "cell_type": "markdown",
   "source": [
    "## SaveModel (default) or HDF5 "
   ],
   "metadata": {}
  },
  {
   "cell_type": "code",
   "execution_count": 4,
   "source": [
    "import tensorflow as tf\r\n",
    "import tensorflow_hub as hub"
   ],
   "outputs": [],
   "metadata": {}
  },
  {
   "cell_type": "code",
   "execution_count": 5,
   "source": [
    "loaded_model_6 = tf.keras.models.load_model(\r\n",
    "    \"model_6.h5\",\r\n",
    "    custom_objects = {\r\n",
    "        \"KerasLayer\" : hub.KerasLayer\r\n",
    "    }\r\n",
    ")"
   ],
   "outputs": [],
   "metadata": {}
  },
  {
   "cell_type": "code",
   "execution_count": 6,
   "source": [
    "import pandas as pd\r\n",
    "\r\n",
    "train_df = pd.read_csv(\"train.csv\")\r\n",
    "test_df = pd.read_csv(\"test.csv\")\r\n",
    "\r\n",
    "train_df.head(), train_df.shape, test_df.head(), test_df.shape"
   ],
   "outputs": [
    {
     "output_type": "execute_result",
     "data": {
      "text/plain": [
       "(   id keyword location                                               text  \\\n",
       " 0   1     NaN      NaN  Our Deeds are the Reason of this #earthquake M...   \n",
       " 1   4     NaN      NaN             Forest fire near La Ronge Sask. Canada   \n",
       " 2   5     NaN      NaN  All residents asked to 'shelter in place' are ...   \n",
       " 3   6     NaN      NaN  13,000 people receive #wildfires evacuation or...   \n",
       " 4   7     NaN      NaN  Just got sent this photo from Ruby #Alaska as ...   \n",
       " \n",
       "    target  \n",
       " 0       1  \n",
       " 1       1  \n",
       " 2       1  \n",
       " 3       1  \n",
       " 4       1  ,\n",
       " (7613, 5),\n",
       "    id keyword location                                               text\n",
       " 0   0     NaN      NaN                 Just happened a terrible car crash\n",
       " 1   2     NaN      NaN  Heard about #earthquake is different cities, s...\n",
       " 2   3     NaN      NaN  there is a forest fire at spot pond, geese are...\n",
       " 3   9     NaN      NaN           Apocalypse lighting. #Spokane #wildfires\n",
       " 4  11     NaN      NaN      Typhoon Soudelor kills 28 in China and Taiwan,\n",
       " (3263, 4))"
      ]
     },
     "metadata": {},
     "execution_count": 6
    }
   ],
   "metadata": {}
  },
  {
   "cell_type": "code",
   "execution_count": 7,
   "source": [
    "train_df_shuffled = train_df.sample(frac = 1, random_state=42)\r\n",
    "train_df_shuffled.head(), train_df_shuffled.shape"
   ],
   "outputs": [
    {
     "output_type": "execute_result",
     "data": {
      "text/plain": [
       "(        id      keyword               location  \\\n",
       " 2644  3796  destruction                    NaN   \n",
       " 2227  3185       deluge                    NaN   \n",
       " 5448  7769       police                     UK   \n",
       " 132    191   aftershock                    NaN   \n",
       " 6845  9810       trauma  Montgomery County, MD   \n",
       " \n",
       "                                                    text  target  \n",
       " 2644  So you have a new weapon that can cause un-ima...       1  \n",
       " 2227  The f$&amp;@ing things I do for #GISHWHES Just...       0  \n",
       " 5448  DT @georgegalloway: RT @Galloway4Mayor: ÛÏThe...       1  \n",
       " 132   Aftershock back to school kick off was great. ...       0  \n",
       " 6845  in response to trauma Children of Addicts deve...       0  ,\n",
       " (7613, 5))"
      ]
     },
     "metadata": {},
     "execution_count": 7
    }
   ],
   "metadata": {}
  },
  {
   "cell_type": "code",
   "execution_count": 8,
   "source": [
    "print(f\"총 학습할 데이터의 수 : {len(train_df)}\")\r\n",
    "print(f\"총 테스트할 데이터의 수 : {len(test_df)}\")\r\n",
    "print(f\"총 데이터의 수 : {len(train_df) + len(test_df)}\")"
   ],
   "outputs": [
    {
     "output_type": "stream",
     "name": "stdout",
     "text": [
      "총 학습할 데이터의 수 : 7613\n",
      "총 테스트할 데이터의 수 : 3263\n",
      "총 데이터의 수 : 10876\n"
     ]
    }
   ],
   "metadata": {}
  },
  {
   "cell_type": "code",
   "execution_count": 9,
   "source": [
    "from sklearn.model_selection import train_test_split\r\n",
    "\r\n",
    "train_sentences, val_sentences, train_labels, val_labels = train_test_split(\r\n",
    "    train_df_shuffled[\"text\"].to_numpy(),\r\n",
    "    train_df_shuffled[\"target\"].to_numpy(),\r\n",
    "    test_size = 0.1,\r\n",
    "    random_state= 42\r\n",
    ")"
   ],
   "outputs": [],
   "metadata": {}
  },
  {
   "cell_type": "code",
   "execution_count": 10,
   "source": [
    "len(train_sentences), len(train_labels), len(val_sentences), len(val_labels)"
   ],
   "outputs": [
    {
     "output_type": "execute_result",
     "data": {
      "text/plain": [
       "(6851, 6851, 762, 762)"
      ]
     },
     "metadata": {},
     "execution_count": 10
    }
   ],
   "metadata": {}
  },
  {
   "cell_type": "code",
   "execution_count": 11,
   "source": [
    "loaded_model_6.evaluate(val_sentences, val_labels)"
   ],
   "outputs": [
    {
     "output_type": "stream",
     "name": "stdout",
     "text": [
      "24/24 [==============================] - 1s 9ms/step - loss: 0.4261 - accuracy: 0.8123\n"
     ]
    },
    {
     "output_type": "execute_result",
     "data": {
      "text/plain": [
       "[0.42613252997398376, 0.8123359680175781]"
      ]
     },
     "metadata": {},
     "execution_count": 11
    }
   ],
   "metadata": {}
  },
  {
   "cell_type": "code",
   "execution_count": 12,
   "source": [
    "loaded_model_6.save(\"model_6_SaveModel_format\")"
   ],
   "outputs": [
    {
     "output_type": "stream",
     "name": "stderr",
     "text": [
      "WARNING:absl:Function `_wrapped_model` contains input name(s) USE_input with unsupported characters which will be renamed to use_input in the SavedModel.\n"
     ]
    },
    {
     "output_type": "stream",
     "name": "stdout",
     "text": [
      "INFO:tensorflow:Assets written to: model_6_SaveModel_format\\assets\n"
     ]
    },
    {
     "output_type": "stream",
     "name": "stderr",
     "text": [
      "INFO:tensorflow:Assets written to: model_6_SaveModel_format\\assets\n"
     ]
    }
   ],
   "metadata": {}
  },
  {
   "cell_type": "code",
   "execution_count": 13,
   "source": [
    "loaded_model_6_SaveModel = tf.keras.models.load_model(\"model_6_SaveModel_format\")"
   ],
   "outputs": [],
   "metadata": {}
  },
  {
   "cell_type": "code",
   "execution_count": 14,
   "source": [
    "loaded_model_6_SaveModel.evaluate(val_sentences, val_labels)"
   ],
   "outputs": [
    {
     "output_type": "stream",
     "name": "stdout",
     "text": [
      "24/24 [==============================] - 1s 5ms/step - loss: 0.4261 - accuracy: 0.8123\n"
     ]
    },
    {
     "output_type": "execute_result",
     "data": {
      "text/plain": [
       "[0.42613252997398376, 0.8123359680175781]"
      ]
     },
     "metadata": {},
     "execution_count": 14
    }
   ],
   "metadata": {}
  },
  {
   "cell_type": "code",
   "execution_count": 15,
   "source": [
    "model_6_pred_probs = loaded_model_6_SaveModel.predict(val_sentences)\r\n",
    "model_6_preds = tf.squeeze(tf.round(model_6_pred_probs))"
   ],
   "outputs": [],
   "metadata": {}
  },
  {
   "cell_type": "code",
   "execution_count": 19,
   "source": [
    "val_df = pd.DataFrame({\r\n",
    "    \"text\": val_sentences,\r\n",
    "    \"target\": val_labels,\r\n",
    "    \"pred\": model_6_preds,\r\n",
    "    \"pred_prob\": tf.squeeze(model_6_pred_probs)\r\n",
    "})\r\n",
    "val_df"
   ],
   "outputs": [
    {
     "output_type": "execute_result",
     "data": {
      "text/html": [
       "<div>\n",
       "<style scoped>\n",
       "    .dataframe tbody tr th:only-of-type {\n",
       "        vertical-align: middle;\n",
       "    }\n",
       "\n",
       "    .dataframe tbody tr th {\n",
       "        vertical-align: top;\n",
       "    }\n",
       "\n",
       "    .dataframe thead th {\n",
       "        text-align: right;\n",
       "    }\n",
       "</style>\n",
       "<table border=\"1\" class=\"dataframe\">\n",
       "  <thead>\n",
       "    <tr style=\"text-align: right;\">\n",
       "      <th></th>\n",
       "      <th>text</th>\n",
       "      <th>target</th>\n",
       "      <th>pred</th>\n",
       "      <th>pred_prob</th>\n",
       "    </tr>\n",
       "  </thead>\n",
       "  <tbody>\n",
       "    <tr>\n",
       "      <th>0</th>\n",
       "      <td>DFR EP016 Monthly Meltdown - On Dnbheaven 2015...</td>\n",
       "      <td>0</td>\n",
       "      <td>0.0</td>\n",
       "      <td>0.198712</td>\n",
       "    </tr>\n",
       "    <tr>\n",
       "      <th>1</th>\n",
       "      <td>FedEx no longer to transport bioterror germs i...</td>\n",
       "      <td>0</td>\n",
       "      <td>1.0</td>\n",
       "      <td>0.748079</td>\n",
       "    </tr>\n",
       "    <tr>\n",
       "      <th>2</th>\n",
       "      <td>Gunmen kill four in El Salvador bus attack: Su...</td>\n",
       "      <td>1</td>\n",
       "      <td>1.0</td>\n",
       "      <td>0.986122</td>\n",
       "    </tr>\n",
       "    <tr>\n",
       "      <th>3</th>\n",
       "      <td>@camilacabello97 Internally and externally scr...</td>\n",
       "      <td>1</td>\n",
       "      <td>0.0</td>\n",
       "      <td>0.217625</td>\n",
       "    </tr>\n",
       "    <tr>\n",
       "      <th>4</th>\n",
       "      <td>Radiation emergency #preparedness starts with ...</td>\n",
       "      <td>1</td>\n",
       "      <td>1.0</td>\n",
       "      <td>0.693689</td>\n",
       "    </tr>\n",
       "    <tr>\n",
       "      <th>...</th>\n",
       "      <td>...</td>\n",
       "      <td>...</td>\n",
       "      <td>...</td>\n",
       "      <td>...</td>\n",
       "    </tr>\n",
       "    <tr>\n",
       "      <th>757</th>\n",
       "      <td>That's the ultimate road to destruction</td>\n",
       "      <td>0</td>\n",
       "      <td>0.0</td>\n",
       "      <td>0.150539</td>\n",
       "    </tr>\n",
       "    <tr>\n",
       "      <th>758</th>\n",
       "      <td>@SetZorah dad why dont you claim me that mean ...</td>\n",
       "      <td>0</td>\n",
       "      <td>0.0</td>\n",
       "      <td>0.100686</td>\n",
       "    </tr>\n",
       "    <tr>\n",
       "      <th>759</th>\n",
       "      <td>FedEx will no longer transport bioterror patho...</td>\n",
       "      <td>0</td>\n",
       "      <td>1.0</td>\n",
       "      <td>0.875329</td>\n",
       "    </tr>\n",
       "    <tr>\n",
       "      <th>760</th>\n",
       "      <td>Crack in the path where I wiped out this morni...</td>\n",
       "      <td>0</td>\n",
       "      <td>1.0</td>\n",
       "      <td>0.702966</td>\n",
       "    </tr>\n",
       "    <tr>\n",
       "      <th>761</th>\n",
       "      <td>I liked a @YouTube video from @dannyonpc http:...</td>\n",
       "      <td>0</td>\n",
       "      <td>0.0</td>\n",
       "      <td>0.128119</td>\n",
       "    </tr>\n",
       "  </tbody>\n",
       "</table>\n",
       "<p>762 rows × 4 columns</p>\n",
       "</div>"
      ],
      "text/plain": [
       "                                                  text  target  pred  \\\n",
       "0    DFR EP016 Monthly Meltdown - On Dnbheaven 2015...       0   0.0   \n",
       "1    FedEx no longer to transport bioterror germs i...       0   1.0   \n",
       "2    Gunmen kill four in El Salvador bus attack: Su...       1   1.0   \n",
       "3    @camilacabello97 Internally and externally scr...       1   0.0   \n",
       "4    Radiation emergency #preparedness starts with ...       1   1.0   \n",
       "..                                                 ...     ...   ...   \n",
       "757            That's the ultimate road to destruction       0   0.0   \n",
       "758  @SetZorah dad why dont you claim me that mean ...       0   0.0   \n",
       "759  FedEx will no longer transport bioterror patho...       0   1.0   \n",
       "760  Crack in the path where I wiped out this morni...       0   1.0   \n",
       "761  I liked a @YouTube video from @dannyonpc http:...       0   0.0   \n",
       "\n",
       "     pred_prob  \n",
       "0     0.198712  \n",
       "1     0.748079  \n",
       "2     0.986122  \n",
       "3     0.217625  \n",
       "4     0.693689  \n",
       "..         ...  \n",
       "757   0.150539  \n",
       "758   0.100686  \n",
       "759   0.875329  \n",
       "760   0.702966  \n",
       "761   0.128119  \n",
       "\n",
       "[762 rows x 4 columns]"
      ]
     },
     "metadata": {},
     "execution_count": 19
    }
   ],
   "metadata": {}
  },
  {
   "cell_type": "code",
   "execution_count": 20,
   "source": [
    "most_wrong = val_df[val_df[\"target\"] != val_df[\"pred\"]].sort_values(\"pred_prob\", ascending = False)\r\n",
    "most_wrong[:10]"
   ],
   "outputs": [
    {
     "output_type": "execute_result",
     "data": {
      "text/html": [
       "<div>\n",
       "<style scoped>\n",
       "    .dataframe tbody tr th:only-of-type {\n",
       "        vertical-align: middle;\n",
       "    }\n",
       "\n",
       "    .dataframe tbody tr th {\n",
       "        vertical-align: top;\n",
       "    }\n",
       "\n",
       "    .dataframe thead th {\n",
       "        text-align: right;\n",
       "    }\n",
       "</style>\n",
       "<table border=\"1\" class=\"dataframe\">\n",
       "  <thead>\n",
       "    <tr style=\"text-align: right;\">\n",
       "      <th></th>\n",
       "      <th>text</th>\n",
       "      <th>target</th>\n",
       "      <th>pred</th>\n",
       "      <th>pred_prob</th>\n",
       "    </tr>\n",
       "  </thead>\n",
       "  <tbody>\n",
       "    <tr>\n",
       "      <th>31</th>\n",
       "      <td>? High Skies - Burning Buildings ? http://t.co...</td>\n",
       "      <td>0</td>\n",
       "      <td>1.0</td>\n",
       "      <td>0.933125</td>\n",
       "    </tr>\n",
       "    <tr>\n",
       "      <th>759</th>\n",
       "      <td>FedEx will no longer transport bioterror patho...</td>\n",
       "      <td>0</td>\n",
       "      <td>1.0</td>\n",
       "      <td>0.875329</td>\n",
       "    </tr>\n",
       "    <tr>\n",
       "      <th>628</th>\n",
       "      <td>@noah_anyname That's where the concentration c...</td>\n",
       "      <td>0</td>\n",
       "      <td>1.0</td>\n",
       "      <td>0.854831</td>\n",
       "    </tr>\n",
       "    <tr>\n",
       "      <th>49</th>\n",
       "      <td>@madonnamking RSPCA site multiple 7 story high...</td>\n",
       "      <td>0</td>\n",
       "      <td>1.0</td>\n",
       "      <td>0.846544</td>\n",
       "    </tr>\n",
       "    <tr>\n",
       "      <th>209</th>\n",
       "      <td>Ashes 2015: AustraliaÛªs collapse at Trent Br...</td>\n",
       "      <td>0</td>\n",
       "      <td>1.0</td>\n",
       "      <td>0.831237</td>\n",
       "    </tr>\n",
       "    <tr>\n",
       "      <th>393</th>\n",
       "      <td>@SonofLiberty357 all illuminated by the bright...</td>\n",
       "      <td>0</td>\n",
       "      <td>1.0</td>\n",
       "      <td>0.823089</td>\n",
       "    </tr>\n",
       "    <tr>\n",
       "      <th>251</th>\n",
       "      <td>@AshGhebranious civil rights continued in the ...</td>\n",
       "      <td>0</td>\n",
       "      <td>1.0</td>\n",
       "      <td>0.805122</td>\n",
       "    </tr>\n",
       "    <tr>\n",
       "      <th>698</th>\n",
       "      <td>åÈMGN-AFRICAå¨ pin:263789F4 åÈ Correction: Ten...</td>\n",
       "      <td>0</td>\n",
       "      <td>1.0</td>\n",
       "      <td>0.803008</td>\n",
       "    </tr>\n",
       "    <tr>\n",
       "      <th>109</th>\n",
       "      <td>[55436] 1950 LIONEL TRAINS SMOKE LOCOMOTIVES W...</td>\n",
       "      <td>0</td>\n",
       "      <td>1.0</td>\n",
       "      <td>0.802900</td>\n",
       "    </tr>\n",
       "    <tr>\n",
       "      <th>381</th>\n",
       "      <td>Deaths 3 http://t.co/nApviyGKYK</td>\n",
       "      <td>0</td>\n",
       "      <td>1.0</td>\n",
       "      <td>0.776191</td>\n",
       "    </tr>\n",
       "  </tbody>\n",
       "</table>\n",
       "</div>"
      ],
      "text/plain": [
       "                                                  text  target  pred  \\\n",
       "31   ? High Skies - Burning Buildings ? http://t.co...       0   1.0   \n",
       "759  FedEx will no longer transport bioterror patho...       0   1.0   \n",
       "628  @noah_anyname That's where the concentration c...       0   1.0   \n",
       "49   @madonnamking RSPCA site multiple 7 story high...       0   1.0   \n",
       "209  Ashes 2015: AustraliaÛªs collapse at Trent Br...       0   1.0   \n",
       "393  @SonofLiberty357 all illuminated by the bright...       0   1.0   \n",
       "251  @AshGhebranious civil rights continued in the ...       0   1.0   \n",
       "698  åÈMGN-AFRICAå¨ pin:263789F4 åÈ Correction: Ten...       0   1.0   \n",
       "109  [55436] 1950 LIONEL TRAINS SMOKE LOCOMOTIVES W...       0   1.0   \n",
       "381                    Deaths 3 http://t.co/nApviyGKYK       0   1.0   \n",
       "\n",
       "     pred_prob  \n",
       "31    0.933125  \n",
       "759   0.875329  \n",
       "628   0.854831  \n",
       "49    0.846544  \n",
       "209   0.831237  \n",
       "393   0.823089  \n",
       "251   0.805122  \n",
       "698   0.803008  \n",
       "109   0.802900  \n",
       "381   0.776191  "
      ]
     },
     "metadata": {},
     "execution_count": 20
    }
   ],
   "metadata": {}
  },
  {
   "cell_type": "code",
   "execution_count": 21,
   "source": [
    "# false positive 확인 \r\n",
    "for row in most_wrong[:10].itertuples():\r\n",
    "    _, text, target, pred, prob = row\r\n",
    "    print(f\"Target : {target}, Pred: {int(pred)}, Prob: {prob}\")\r\n",
    "    print(f\"Text:\\n{text}\\n\")\r\n",
    "    print(\"----\\n\")"
   ],
   "outputs": [
    {
     "output_type": "stream",
     "name": "stdout",
     "text": [
      "Target : 0, Pred: 1, Prob: 0.9331251382827759\n",
      "Text:\n",
      "? High Skies - Burning Buildings ? http://t.co/uVq41i3Kx2 #nowplaying\n",
      "\n",
      "----\n",
      "\n",
      "Target : 0, Pred: 1, Prob: 0.8753292560577393\n",
      "Text:\n",
      "FedEx will no longer transport bioterror pathogens in wake of anthrax lab mishaps http://t.co/lHpgxc4b8J\n",
      "\n",
      "----\n",
      "\n",
      "Target : 0, Pred: 1, Prob: 0.8548308610916138\n",
      "Text:\n",
      "@noah_anyname That's where the concentration camps and mass murder come in. \n",
      " \n",
      "EVERY. FUCKING. TIME.\n",
      "\n",
      "----\n",
      "\n",
      "Target : 0, Pred: 1, Prob: 0.8465442657470703\n",
      "Text:\n",
      "@madonnamking RSPCA site multiple 7 story high rise buildings next to low density character residential in an area that floods\n",
      "\n",
      "----\n",
      "\n",
      "Target : 0, Pred: 1, Prob: 0.8312370777130127\n",
      "Text:\n",
      "Ashes 2015: AustraliaÛªs collapse at Trent Bridge among worst in history: England bundled out Australia for 60 ... http://t.co/t5TrhjUAU0\n",
      "\n",
      "----\n",
      "\n",
      "Target : 0, Pred: 1, Prob: 0.823088526725769\n",
      "Text:\n",
      "@SonofLiberty357 all illuminated by the brightly burning buildings all around the town!\n",
      "\n",
      "----\n",
      "\n",
      "Target : 0, Pred: 1, Prob: 0.8051218390464783\n",
      "Text:\n",
      "@AshGhebranious civil rights continued in the 60s. And what about trans-generational trauma? if anything we should listen to the Americans.\n",
      "\n",
      "----\n",
      "\n",
      "Target : 0, Pred: 1, Prob: 0.8030081987380981\n",
      "Text:\n",
      "åÈMGN-AFRICAå¨ pin:263789F4 åÈ Correction: Tent Collapse Story: Correction: Tent Collapse story åÈ http://t.co/fDJUYvZMrv @wizkidayo\n",
      "\n",
      "----\n",
      "\n",
      "Target : 0, Pred: 1, Prob: 0.8028995990753174\n",
      "Text:\n",
      "[55436] 1950 LIONEL TRAINS SMOKE LOCOMOTIVES WITH MAGNE-TRACTION INSTRUCTIONS http://t.co/xEZBs3sq0y http://t.co/C2x0QoKGlY\n",
      "\n",
      "----\n",
      "\n",
      "Target : 0, Pred: 1, Prob: 0.7761905193328857\n",
      "Text:\n",
      "Deaths 3 http://t.co/nApviyGKYK\n",
      "\n",
      "----\n",
      "\n"
     ]
    }
   ],
   "metadata": {}
  },
  {
   "cell_type": "code",
   "execution_count": 23,
   "source": [
    "# false negative 확인 \r\n",
    "for row in most_wrong[-10:].itertuples():\r\n",
    "    _, text, target, pred, prob = row\r\n",
    "    print(f\"Target : {target}, Pred: {int(pred)}, Prob: {prob}\")\r\n",
    "    print(f\"Text:\\n{text}\\n\")\r\n",
    "    print(\"----\\n\")"
   ],
   "outputs": [
    {
     "output_type": "stream",
     "name": "stdout",
     "text": [
      "Target : 1, Pred: 0, Prob: 0.06737545132637024\n",
      "Text:\n",
      "going to redo my nails and watch behind the scenes of desolation of smaug ayyy\n",
      "\n",
      "----\n",
      "\n",
      "Target : 1, Pred: 0, Prob: 0.06604376435279846\n",
      "Text:\n",
      "'The way you move is like a full on rainstorm and I'm a house of cards'\n",
      "\n",
      "----\n",
      "\n",
      "Target : 1, Pred: 0, Prob: 0.06545454263687134\n",
      "Text:\n",
      "@willienelson We need help! Horses will die!Please RT &amp; sign petition!Take a stand &amp; be a voice for them! #gilbert23 https://t.co/e8dl1lNCVu\n",
      "\n",
      "----\n",
      "\n",
      "Target : 1, Pred: 0, Prob: 0.06507685780525208\n",
      "Text:\n",
      "New post from @darkreading http://t.co/8eIJDXApnp New SMB Relay Attack Steals User Credentials Over Internet\n",
      "\n",
      "----\n",
      "\n",
      "Target : 1, Pred: 0, Prob: 0.05454438924789429\n",
      "Text:\n",
      "@SoonerMagic_ I mean I'm a fan but I don't need a girl sounding off like a damn siren\n",
      "\n",
      "----\n",
      "\n",
      "Target : 1, Pred: 0, Prob: 0.053053438663482666\n",
      "Text:\n",
      "You can never escape me. Bullets don't harm me. Nothing harms me. But I know pain. I know pain. Sometimes I share it. With someone like you.\n",
      "\n",
      "----\n",
      "\n",
      "Target : 1, Pred: 0, Prob: 0.05261462926864624\n",
      "Text:\n",
      "I get to smoke my shit in peace\n",
      "\n",
      "----\n",
      "\n",
      "Target : 1, Pred: 0, Prob: 0.04082769155502319\n",
      "Text:\n",
      "Reddit Will Now QuarantineÛ_ http://t.co/pkUAMXw6pm #onlinecommunities #reddit #amageddon #freespeech #Business http://t.co/PAWvNJ4sAP\n",
      "\n",
      "----\n",
      "\n",
      "Target : 1, Pred: 0, Prob: 0.034216076135635376\n",
      "Text:\n",
      "Why are you deluged with low self-image? Take the quiz: http://t.co/XsPqdOrIqj http://t.co/CQYvFR4UCy\n",
      "\n",
      "----\n",
      "\n",
      "Target : 1, Pred: 0, Prob: 0.033692002296447754\n",
      "Text:\n",
      "Ron &amp; Fez - Dave's High School Crush https://t.co/aN3W16c8F6 via @YouTube\n",
      "\n",
      "----\n",
      "\n"
     ]
    }
   ],
   "metadata": {}
  },
  {
   "cell_type": "code",
   "execution_count": 24,
   "source": [
    "import random\r\n",
    "\r\n",
    "test_sentences = test_df[\"text\"].to_list()\r\n",
    "test_samples = random.sample(test_sentences, 10)\r\n",
    "for test_sample in test_samples:\r\n",
    "    pred_prob = tf.squeeze(loaded_model_6_SaveModel.predict([test_sample]))\r\n",
    "    pred = tf.round(pred_prob)\r\n",
    "    print(f\"Pred: {int(pred)}, Prob: {pred_prob}\")\r\n",
    "    print(f\"Text: \\n{test_sample}\\n\")\r\n",
    "    print(\"----\\n\")\r\n",
    "    "
   ],
   "outputs": [
    {
     "output_type": "stream",
     "name": "stdout",
     "text": [
      "Pred: 0, Prob: 0.07988095283508301\n",
      "Text: \n",
      "It's a trap not a fucking game. U ain't trapping if u ain't trapped\n",
      "\n",
      "----\n",
      "\n",
      "Pred: 0, Prob: 0.23009538650512695\n",
      "Text: \n",
      "my wife has opted to take holidays &amp; historically since we met @lanahillman gets special treatment her bonfires can't start wild fires-RAIN!\n",
      "\n",
      "----\n",
      "\n",
      "Pred: 0, Prob: 0.17310187220573425\n",
      "Text: \n",
      "So that it'll electrocute somebody's ass baa...No thank you https://t.co/x7P1xaBWTz\n",
      "\n",
      "----\n",
      "\n",
      "Pred: 0, Prob: 0.07406219840049744\n",
      "Text: \n",
      "@TypeEd been a bit inundated w. Illustrative work  BUT would love to catch up! ??????\n",
      "\n",
      "----\n",
      "\n",
      "Pred: 1, Prob: 0.90939861536026\n",
      "Text: \n",
      "Refugio oil spill may have been costlier bigger than projected http://t.co/d7FdCLU404\n",
      "\n",
      "----\n",
      "\n",
      "Pred: 0, Prob: 0.08046174049377441\n",
      "Text: \n",
      "@alexhern he created vr only he can destroy it.\n",
      "\n",
      "----\n",
      "\n",
      "Pred: 0, Prob: 0.3765888810157776\n",
      "Text: \n",
      "Our wounds can so easily turn us into people we don't want to be and we hardly see it happening\n",
      "\n",
      "----\n",
      "\n",
      "Pred: 0, Prob: 0.2447885274887085\n",
      "Text: \n",
      "@Ryanair I am waiting to hear about my claim for compensation. I have received an email saying you are inundated so there will be a delay??\n",
      "\n",
      "----\n",
      "\n",
      "Pred: 0, Prob: 0.25194600224494934\n",
      "Text: \n",
      "My brother just got electrocuted from the plug socket ????\n",
      "\n",
      "----\n",
      "\n",
      "Pred: 0, Prob: 0.23395779728889465\n",
      "Text: \n",
      "@Vanquiishher it can legit drown\n",
      "\n",
      "----\n",
      "\n"
     ]
    }
   ],
   "metadata": {}
  },
  {
   "cell_type": "code",
   "execution_count": 25,
   "source": [
    "my_tweet = \"Life like an ensemble: take the best choices from others and make your own\""
   ],
   "outputs": [],
   "metadata": {}
  },
  {
   "cell_type": "code",
   "execution_count": 26,
   "source": [
    "def predict_on_sentence(model, sentence):\r\n",
    "    pred_prob = model.predict([sentence])\r\n",
    "    pred_label = tf.squeeze(tf.round(pred_prob)).numpy()\r\n",
    "    print(f\"Pred: {pred_label}\", \"부정\" if pred_label > 0 else \"긍정\", f\"Prob: {pred_prob[0][0]}\")\r\n",
    "    print(f\"Text: \\n{sentence}\")"
   ],
   "outputs": [],
   "metadata": {}
  },
  {
   "cell_type": "code",
   "execution_count": 27,
   "source": [
    "predict_on_sentence(\r\n",
    "    model = loaded_model_6_SaveModel,\r\n",
    "    sentence = my_tweet\r\n",
    ")"
   ],
   "outputs": [
    {
     "output_type": "stream",
     "name": "stdout",
     "text": [
      "Pred: 0.0 긍정 Prob: 0.045455485582351685\n",
      "Text: \n",
      "Life like an ensemble: take the best choices from others and make your own\n"
     ]
    }
   ],
   "metadata": {}
  },
  {
   "cell_type": "code",
   "execution_count": 28,
   "source": [
    "bad_news1 = \"Reports that the smoke in Beirut sky contains nitric acid, which is toxic. Please share and refrain from stepping outside unless urgent. #Lebanon\"\r\n",
    "bad_news2 = \"#Beirut declared a “devastated city”, two-week state of emergency officially declared. #Lebanon\""
   ],
   "outputs": [],
   "metadata": {}
  },
  {
   "cell_type": "code",
   "execution_count": 29,
   "source": [
    "predict_on_sentence(\r\n",
    "    model = loaded_model_6_SaveModel,\r\n",
    "    sentence = bad_news1\r\n",
    ")"
   ],
   "outputs": [
    {
     "output_type": "stream",
     "name": "stdout",
     "text": [
      "Pred: 1.0 부정 Prob: 0.969714343547821\n",
      "Text: \n",
      "Reports that the smoke in Beirut sky contains nitric acid, which is toxic. Please share and refrain from stepping outside unless urgent. #Lebanon\n"
     ]
    }
   ],
   "metadata": {}
  },
  {
   "cell_type": "code",
   "execution_count": 30,
   "source": [
    "predict_on_sentence(\r\n",
    "    model = loaded_model_6_SaveModel,\r\n",
    "    sentence = bad_news2\r\n",
    ")"
   ],
   "outputs": [
    {
     "output_type": "stream",
     "name": "stdout",
     "text": [
      "Pred: 1.0 부정 Prob: 0.9734008312225342\n",
      "Text: \n",
      "#Beirut declared a “devastated city”, two-week state of emergency officially declared. #Lebanon\n"
     ]
    }
   ],
   "metadata": {}
  },
  {
   "cell_type": "code",
   "execution_count": 51,
   "source": [
    "my_opinion = \"I my_opinion a baseball!\""
   ],
   "outputs": [],
   "metadata": {}
  },
  {
   "cell_type": "code",
   "execution_count": 52,
   "source": [
    "predict_on_sentence(\r\n",
    "    model = loaded_model_6_SaveModel,\r\n",
    "    sentence = my_opinion\r\n",
    ")"
   ],
   "outputs": [
    {
     "output_type": "stream",
     "name": "stdout",
     "text": [
      "Pred: 0.0 긍정 Prob: 0.11191290616989136\n",
      "Text: \n",
      "I my_opinion a baseball!\n"
     ]
    }
   ],
   "metadata": {}
  },
  {
   "cell_type": "code",
   "execution_count": null,
   "source": [],
   "outputs": [],
   "metadata": {}
  }
 ],
 "metadata": {
  "orig_nbformat": 4,
  "language_info": {
   "name": "python",
   "version": "3.9.6",
   "mimetype": "text/x-python",
   "codemirror_mode": {
    "name": "ipython",
    "version": 3
   },
   "pygments_lexer": "ipython3",
   "nbconvert_exporter": "python",
   "file_extension": ".py"
  },
  "kernelspec": {
   "name": "python3",
   "display_name": "Python 3.9.6 64-bit ('venv': venv)"
  },
  "interpreter": {
   "hash": "23b0618377e212a12a26e4ee68a3e39884635847071ead513355fecbb008c6df"
  }
 },
 "nbformat": 4,
 "nbformat_minor": 2
}