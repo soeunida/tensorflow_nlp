{
 "cells": [
  {
   "cell_type": "markdown",
   "source": [
    "## tensorflow_nlp.ipynb\r\n",
    "## NLP : 자연어 처리\r\n",
    "## 1) Classification (분류) - 라벨링이 필요\r\n",
    "## 2) Machine Translation (번역)\r\n",
    "## 3) Text Generation (문장 생성)\r\n",
    "## 4) Voice Assistants (보이스 비서)\r\n",
    "\r\n",
    "==> 이런 자연어처리들을 하기 위해서 필요한 것이 -> sequence prolems!!! (문장을 이루는 단어를 숫자로 표현하는 문제)\r\n",
    "==> NLP (Natural Language Processing) : 자연어에서 정보를 추려해는 것인 목적\r\n",
    "==> NLU (Natural Language Understanding) : 자연어를 이해하고 행동이 목적\r\n",
    "\r\n",
    "자연어에서 이야기하는 용어\r\n",
    "1) Text \r\n",
    "2) Speech "
   ],
   "metadata": {}
  },
  {
   "cell_type": "markdown",
   "source": [
    "## 우리가 하려는 과정은\r\n",
    "텍스트 -> 이 텍스트를 숫자로 변환 -> 모델 생성 -> 패턴을 찾기 위해 모델을 학습 -> 패턴 이용 (예측)"
   ],
   "metadata": {}
  },
  {
   "cell_type": "code",
   "execution_count": 1,
   "source": [
    "import tensorflow as tf\r\n",
    "print(tf.__version__)"
   ],
   "outputs": [
    {
     "output_type": "stream",
     "name": "stdout",
     "text": [
      "2.6.0\n"
     ]
    }
   ],
   "metadata": {}
  },
  {
   "cell_type": "code",
   "execution_count": 2,
   "source": [
    "from helper_functions import unzip_data, create_tensorboard_callback, plot_loss_curves, compare_historys"
   ],
   "outputs": [],
   "metadata": {}
  },
  {
   "cell_type": "code",
   "execution_count": 3,
   "source": [
    "unzip_data(\"nlp_getting_started.zip\")"
   ],
   "outputs": [],
   "metadata": {}
  },
  {
   "cell_type": "code",
   "execution_count": 4,
   "source": [
    "import pandas as pd\r\n",
    "\r\n",
    "train_df = pd.read_csv(\"train.csv\")\r\n",
    "test_df = pd.read_csv(\"test.csv\")\r\n",
    "\r\n",
    "train_df.head(), train_df.shape, test_df.head(), test_df.shape"
   ],
   "outputs": [
    {
     "output_type": "execute_result",
     "data": {
      "text/plain": [
       "(   id keyword location                                               text  \\\n",
       " 0   1     NaN      NaN  Our Deeds are the Reason of this #earthquake M...   \n",
       " 1   4     NaN      NaN             Forest fire near La Ronge Sask. Canada   \n",
       " 2   5     NaN      NaN  All residents asked to 'shelter in place' are ...   \n",
       " 3   6     NaN      NaN  13,000 people receive #wildfires evacuation or...   \n",
       " 4   7     NaN      NaN  Just got sent this photo from Ruby #Alaska as ...   \n",
       " \n",
       "    target  \n",
       " 0       1  \n",
       " 1       1  \n",
       " 2       1  \n",
       " 3       1  \n",
       " 4       1  ,\n",
       " (7613, 5),\n",
       "    id keyword location                                               text\n",
       " 0   0     NaN      NaN                 Just happened a terrible car crash\n",
       " 1   2     NaN      NaN  Heard about #earthquake is different cities, s...\n",
       " 2   3     NaN      NaN  there is a forest fire at spot pond, geese are...\n",
       " 3   9     NaN      NaN           Apocalypse lighting. #Spokane #wildfires\n",
       " 4  11     NaN      NaN      Typhoon Soudelor kills 28 in China and Taiwan,\n",
       " (3263, 4))"
      ]
     },
     "metadata": {},
     "execution_count": 4
    }
   ],
   "metadata": {}
  },
  {
   "cell_type": "code",
   "execution_count": 5,
   "source": [
    "train_df_shuffled = train_df.sample(frac = 1, random_state=42)\r\n",
    "train_df_shuffled.head(), train_df_shuffled.shape"
   ],
   "outputs": [
    {
     "output_type": "execute_result",
     "data": {
      "text/plain": [
       "(        id      keyword               location  \\\n",
       " 2644  3796  destruction                    NaN   \n",
       " 2227  3185       deluge                    NaN   \n",
       " 5448  7769       police                     UK   \n",
       " 132    191   aftershock                    NaN   \n",
       " 6845  9810       trauma  Montgomery County, MD   \n",
       " \n",
       "                                                    text  target  \n",
       " 2644  So you have a new weapon that can cause un-ima...       1  \n",
       " 2227  The f$&amp;@ing things I do for #GISHWHES Just...       0  \n",
       " 5448  DT @georgegalloway: RT @Galloway4Mayor: ÛÏThe...       1  \n",
       " 132   Aftershock back to school kick off was great. ...       0  \n",
       " 6845  in response to trauma Children of Addicts deve...       0  ,\n",
       " (7613, 5))"
      ]
     },
     "metadata": {},
     "execution_count": 5
    }
   ],
   "metadata": {}
  },
  {
   "cell_type": "markdown",
   "source": [
    "## 우리가 하려는 것\r\n",
    "## 입력 (text 컬럼) -> 머신러닝 알고리즘 -> 출력 (target 컬럼)"
   ],
   "metadata": {}
  },
  {
   "cell_type": "code",
   "execution_count": 6,
   "source": [
    "train_df.target.value_counts()\r\n",
    "\r\n",
    "# 결과값이 0과 1밖에 없기에 binary classification 문제"
   ],
   "outputs": [
    {
     "output_type": "execute_result",
     "data": {
      "text/plain": [
       "0    4342\n",
       "1    3271\n",
       "Name: target, dtype: int64"
      ]
     },
     "metadata": {},
     "execution_count": 6
    }
   ],
   "metadata": {}
  },
  {
   "cell_type": "code",
   "execution_count": 8,
   "source": [
    "print(f\"총 학습할 데이터의 수 : {len(train_df)}\")\r\n",
    "print(f\"총 테스트할 데이터의 수 : {len(test_df)}\")\r\n",
    "print(f\"총 데이터의 수 : {len(train_df) + len(test_df)}\")"
   ],
   "outputs": [
    {
     "output_type": "stream",
     "name": "stdout",
     "text": [
      "총 학습할 데이터의 수 : 7613\n",
      "총 테스트할 데이터의 수 : 3263\n",
      "총 데이터의 수 : 10876\n"
     ]
    }
   ],
   "metadata": {}
  },
  {
   "cell_type": "code",
   "execution_count": 9,
   "source": [
    "import random\r\n",
    "\r\n",
    "random_index = random.randint(0, len(train_df) - 5)\r\n",
    "for row in train_df_shuffled[ [\"text\", \"target\"] ][random_index:random_index + 5].itertuples():\r\n",
    "    _, text, target = row\r\n",
    "    print(f\"Target: {target}\", \"부정\" if target > 0 else \"긍정\")\r\n",
    "    print(f\"Text: \\n{text}\\n\")\r\n",
    "    print(\"---\\n\")"
   ],
   "outputs": [
    {
     "output_type": "stream",
     "name": "stdout",
     "text": [
      "Target: 0 긍정\n",
      "Text: \n",
      "Dying with debt can be costly for survivors\n",
      "\n",
      "---\n",
      "\n",
      "Target: 0 긍정\n",
      "Text: \n",
      "Caution: breathing may be hazardous to your health.\n",
      "\n",
      "---\n",
      "\n",
      "Target: 0 긍정\n",
      "Text: \n",
      "@SmusX16475 Skype just crashed u host\n",
      "\n",
      "---\n",
      "\n",
      "Target: 1 부정\n",
      "Text: \n",
      "Christian Attacked by Muslims at the Temple Mount after Waving Israeli Flag via Pamela Geller - ... http://t.co/T1aa5Ov7Eg\n",
      "\n",
      "---\n",
      "\n",
      "Target: 1 부정\n",
      "Text: \n",
      "Man charged over fatal crash near Dubbo refused bail http://t.co/HDBMfOVUtZ via @dailyliberal\n",
      "\n",
      "---\n",
      "\n"
     ]
    }
   ],
   "metadata": {}
  },
  {
   "cell_type": "code",
   "execution_count": 12,
   "source": [
    "type(train_df_shuffled[\"text\"]), train_df_shuffled[\"text\"]"
   ],
   "outputs": [
    {
     "output_type": "execute_result",
     "data": {
      "text/plain": [
       "(pandas.core.series.Series,\n",
       " 2644    So you have a new weapon that can cause un-ima...\n",
       " 2227    The f$&amp;@ing things I do for #GISHWHES Just...\n",
       " 5448    DT @georgegalloway: RT @Galloway4Mayor: ÛÏThe...\n",
       " 132     Aftershock back to school kick off was great. ...\n",
       " 6845    in response to trauma Children of Addicts deve...\n",
       "                               ...                        \n",
       " 5226    @Eganator2000 There aren't many Obliteration s...\n",
       " 5390    just had a panic attack bc I don't have enough...\n",
       " 860     Omron HEM-712C Automatic Blood Pressure Monito...\n",
       " 7603    Officials say a quarantine is in place at an A...\n",
       " 7270    I moved to England five years ago today. What ...\n",
       " Name: text, Length: 7613, dtype: object)"
      ]
     },
     "metadata": {},
     "execution_count": 12
    }
   ],
   "metadata": {}
  },
  {
   "cell_type": "code",
   "execution_count": 13,
   "source": [
    "type(train_df_shuffled[\"text\"].to_numpy()), train_df_shuffled[\"text\"].to_numpy()"
   ],
   "outputs": [
    {
     "output_type": "execute_result",
     "data": {
      "text/plain": [
       "(numpy.ndarray,\n",
       " array(['So you have a new weapon that can cause un-imaginable destruction.',\n",
       "        'The f$&amp;@ing things I do for #GISHWHES Just got soaked in a deluge going for pads and tampons. Thx @mishacollins @/@',\n",
       "        'DT @georgegalloway: RT @Galloway4Mayor: \\x89ÛÏThe CoL police can catch a pickpocket in Liverpool Stree... http://t.co/vXIn1gOq4Q',\n",
       "        ...,\n",
       "        'Omron HEM-712C Automatic Blood Pressure Monitor STANDARD AND LARGE BP CUFFS http://t.co/gJBAInQWN9 http://t.co/jPhgpL1c5x',\n",
       "        'Officials say a quarantine is in place at an Alabama home over a possible Ebola case after developing symptoms... http://t.co/rqKK15uhEY',\n",
       "        'I moved to England five years ago today. What a whirlwind of time it has been! http://t.co/eaSlGeA1B7'],\n",
       "       dtype=object))"
      ]
     },
     "metadata": {},
     "execution_count": 13
    }
   ],
   "metadata": {}
  },
  {
   "cell_type": "code",
   "execution_count": 14,
   "source": [
    "from sklearn.model_selection import train_test_split\r\n",
    "\r\n",
    "train_sentences, val_sentences, train_labels, val_labels = train_test_split(\r\n",
    "    train_df_shuffled[\"text\"].to_numpy(),\r\n",
    "    train_df_shuffled[\"target\"].to_numpy(),\r\n",
    "    test_size = 0.1,\r\n",
    "    random_state= 42\r\n",
    ")"
   ],
   "outputs": [],
   "metadata": {}
  },
  {
   "cell_type": "code",
   "execution_count": 15,
   "source": [
    "len(train_sentences), len(train_labels), len(val_sentences), len(val_labels)"
   ],
   "outputs": [
    {
     "output_type": "execute_result",
     "data": {
      "text/plain": [
       "(6851, 6851, 762, 762)"
      ]
     },
     "metadata": {},
     "execution_count": 15
    }
   ],
   "metadata": {}
  },
  {
   "cell_type": "code",
   "execution_count": 18,
   "source": [
    "train_sentences[:10], train_labels[:10]"
   ],
   "outputs": [
    {
     "output_type": "execute_result",
     "data": {
      "text/plain": [
       "(array(['@mogacola @zamtriossu i screamed after hitting tweet',\n",
       "        'Imagine getting flattened by Kurt Zouma',\n",
       "        '@Gurmeetramrahim #MSGDoing111WelfareWorks Green S welfare force ke appx 65000 members har time disaster victim ki help ke liye tyar hai....',\n",
       "        \"@shakjn @C7 @Magnums im shaking in fear he's gonna hack the planet\",\n",
       "        'Somehow find you and I collide http://t.co/Ee8RpOahPk',\n",
       "        '@EvaHanderek @MarleyKnysh great times until the bus driver held us hostage in the mall parking lot lmfao',\n",
       "        'destroy the free fandom honestly',\n",
       "        'Weapons stolen from National Guard Armory in New Albany still missing #Gunsense http://t.co/lKNU8902JE',\n",
       "        '@wfaaweather Pete when will the heat wave pass? Is it really going to be mid month? Frisco Boy Scouts have a canoe trip in Okla.',\n",
       "        'Patient-reported outcomes in long-term survivors of metastatic colorectal cancer - British Journal of Surgery http://t.co/5Yl4DC1Tqt'],\n",
       "       dtype=object),\n",
       " array([0, 0, 1, 0, 0, 1, 1, 0, 1, 1], dtype=int64))"
      ]
     },
     "metadata": {},
     "execution_count": 18
    }
   ],
   "metadata": {}
  },
  {
   "cell_type": "code",
   "execution_count": null,
   "source": [],
   "outputs": [],
   "metadata": {}
  }
 ],
 "metadata": {
  "orig_nbformat": 4,
  "language_info": {
   "name": "python",
   "version": "3.9.7",
   "mimetype": "text/x-python",
   "codemirror_mode": {
    "name": "ipython",
    "version": 3
   },
   "pygments_lexer": "ipython3",
   "nbconvert_exporter": "python",
   "file_extension": ".py"
  },
  "kernelspec": {
   "name": "python3",
   "display_name": "Python 3.9.7 64-bit ('venv': venv)"
  },
  "interpreter": {
   "hash": "f17e0dbfb3d668e70ba8dc788ddd7948a9e194538bbaddbd20e0f53ce1afb686"
  }
 },
 "nbformat": 4,
 "nbformat_minor": 2
}